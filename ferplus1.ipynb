{
  "cells": [
    {
      "cell_type": "code",
      "execution_count": 1,
      "metadata": {
        "id": "3441Rz01kmqk"
      },
      "outputs": [],
      "source": [
        "import os\n",
        "import numpy as np\n",
        "import pandas as pd\n",
        "from PIL import Image\n",
        "from tqdm import tqdm\n",
        "from google.colab import drive\n",
        "from zipfile import ZipFile\n",
        "\n",
        "import torch\n",
        "import torch.nn as nn\n",
        "from torch.utils.data import Dataset, DataLoader\n",
        "from torchvision import transforms, models\n",
        "import matplotlib.pyplot as plt"
      ]
    },
    {
      "cell_type": "code",
      "execution_count": 2,
      "metadata": {
        "id": "l-bqLN3FlfRj"
      },
      "outputs": [],
      "source": [
        "seed = 42\n",
        "torch.manual_seed(seed)\n",
        "np.random.seed(seed)\n",
        "\n",
        "batch_size = 64\n",
        "num_epochs = 10\n",
        "learning_rate = 1e-3\n",
        "weight_decay = 1e-4"
      ]
    },
    {
      "cell_type": "code",
      "execution_count": 3,
      "metadata": {
        "colab": {
          "base_uri": "https://localhost:8080/"
        },
        "id": "6RQV94rDlkTS",
        "outputId": "8420ff90-9727-4115-f164-1130ca3c590f"
      },
      "outputs": [
        {
          "output_type": "execute_result",
          "data": {
            "text/plain": [
              "device(type='cuda')"
            ]
          },
          "metadata": {},
          "execution_count": 3
        }
      ],
      "source": [
        "device = torch.device('cuda' if torch.cuda.is_available() else 'cpu')\n",
        "device"
      ]
    },
    {
      "cell_type": "code",
      "execution_count": 4,
      "metadata": {
        "colab": {
          "base_uri": "https://localhost:8080/"
        },
        "id": "dpTBhHFulsfL",
        "outputId": "92e9e847-4d4d-44f9-ad2b-f2f34f3b0a15"
      },
      "outputs": [
        {
          "output_type": "execute_result",
          "data": {
            "text/plain": [
              "{'neutral': 0,\n",
              " 'happiness': 1,\n",
              " 'surprise': 2,\n",
              " 'sadness': 3,\n",
              " 'anger': 4,\n",
              " 'disgust': 5,\n",
              " 'fear': 6,\n",
              " 'contempt': 7}"
            ]
          },
          "metadata": {},
          "execution_count": 4
        }
      ],
      "source": [
        "CLS = ['neutral', 'happiness', 'surprise', 'sadness', 'anger', 'disgust', 'fear', 'contempt']\n",
        "NUM_CLS = len(CLS)\n",
        "CLS_DICT = {cl:i for i, cl in enumerate(CLS)}\n",
        "CLS_DICT"
      ]
    },
    {
      "cell_type": "code",
      "source": [
        "def extract_fer_datasets():\n",
        "    drive.mount('/content/drive')\n",
        "\n",
        "    base_path = '/content/drive/MyDrive/ml/projekt/fer2013'\n",
        "\n",
        "    target_dirs_exist = any(os.path.isdir(d) for d in ['FER2013Test', 'FER2013Train', 'FER2013Valid'])\n",
        "\n",
        "    if not target_dirs_exist:\n",
        "        zip_file_path = os.path.join(base_path, 'data.zip')\n",
        "        extract_path = '/content/'\n",
        "\n",
        "        if os.path.exists(zip_file_path):\n",
        "            with ZipFile(zip_file_path, 'r') as zip_ref:\n",
        "                zip_ref.extractall(extract_path)\n",
        "            print(f\"Extracted {zip_file_path} to {extract_path}\")\n",
        "        else:\n",
        "            print(f\"Zip file not found at: {zip_file_path}\")\n",
        "    else:\n",
        "        print(\"Dataset already extracted\")"
      ],
      "metadata": {
        "id": "vxAXWl1LHq1B"
      },
      "execution_count": 5,
      "outputs": []
    },
    {
      "cell_type": "code",
      "execution_count": 6,
      "metadata": {
        "id": "3zA4bS6cl2NS"
      },
      "outputs": [],
      "source": [
        "class FerPlusDataset(Dataset):\n",
        "    def __init__(self, split, transform, mode='mv', theta=0.3):\n",
        "        if os.path.exists('/content/drive/MyDrive/ml/projekt/fer2013/data.zip'):\n",
        "            self.root = f'FER2013{split}'\n",
        "        else:\n",
        "            self.root = f'/content/drive/MyDrive/ml/projekt/fer2013/FER2013{split}'\n",
        "        self.transform = transform\n",
        "        self.mode = mode\n",
        "        self.theta = theta\n",
        "\n",
        "        column_names = [\n",
        "            'image_name', 'image_tensor',\n",
        "            'neutral', 'happiness', 'surprise', 'sadness', 'anger', 'disgust', 'fear', 'contempt',\n",
        "            'unknown', 'NF'\n",
        "        ]\n",
        "\n",
        "        df = pd.read_csv(os.path.join(self.root, 'label.csv'), names=column_names, header=None)\n",
        "        df = df[['image_name', 'neutral', 'happiness',\n",
        "                 'surprise', 'sadness', 'anger',\n",
        "                 'disgust', 'fear', 'contempt']]\n",
        "\n",
        "        self.labels = df[CLS].values\n",
        "        self.images = df['image_name'].values\n",
        "\n",
        "    def __len__(self):\n",
        "        return len(self.images)\n",
        "\n",
        "    def __getitem__(self, idx):\n",
        "        img_path = os.path.join(self.root, self.images[idx])\n",
        "        img = Image.open(img_path)\n",
        "        x = self.transform(img)\n",
        "\n",
        "        p = self.labels[idx]\n",
        "\n",
        "        if self.mode == 'mv':\n",
        "            y = torch.tensor(np.argmax(p), dtype = torch.long)\n",
        "\n",
        "        elif self.mode == 'pld':\n",
        "            y = torch.tensor(np.random.choice(NUM_CLS, p=p), dtype = torch.long)\n",
        "\n",
        "        elif self.mode == \"cel\":\n",
        "            y = torch.tensor(p, dtype=torch.float32)\n",
        "\n",
        "        elif self.mode == \"ml\":\n",
        "            mask = (p > self.theta)\n",
        "            y = torch.tensor(mask, dtype=torch.float32)\n",
        "\n",
        "        else:\n",
        "            raise ValueError(f\"Unknown mode {self.mode}\")\n",
        "\n",
        "        return x, y"
      ]
    },
    {
      "cell_type": "code",
      "execution_count": 7,
      "metadata": {
        "id": "TmOdyL396Gix"
      },
      "outputs": [],
      "source": [
        "train_tf = transforms.Compose([\n",
        "    transforms.Grayscale(num_output_channels=3),\n",
        "    transforms.Resize(224),\n",
        "    transforms.RandomHorizontalFlip(),\n",
        "    transforms.ToTensor(),\n",
        "    transforms.Normalize([0.5]*3, [0.5]*3),\n",
        "])\n",
        "\n",
        "val_tf = transforms.Compose([\n",
        "    transforms.Grayscale(num_output_channels=3),\n",
        "    transforms.Resize(224),\n",
        "    transforms.ToTensor(),\n",
        "    transforms.Normalize([0.5]*3, [0.5]*3),\n",
        "])"
      ]
    },
    {
      "cell_type": "code",
      "execution_count": 8,
      "metadata": {
        "id": "cc-BcLGq6ccQ"
      },
      "outputs": [],
      "source": [
        "def make_loaders(mode):\n",
        "    train_ds = FerPlusDataset(split='Train', transform=train_tf, mode=mode)\n",
        "    val_ds = FerPlusDataset(split='Valid', transform=train_tf, mode=mode)\n",
        "    test_ds = FerPlusDataset(split='Test', transform=train_tf, mode=mode)\n",
        "\n",
        "    return (\n",
        "        DataLoader(train_ds, batch_size=batch_size,\n",
        "                   shuffle=True, num_workers=1,\n",
        "                   pin_memory=torch.cuda.is_available()),\n",
        "        DataLoader(val_ds, batch_size=batch_size,\n",
        "                   shuffle=False, num_workers=1,\n",
        "                   pin_memory=torch.cuda.is_available()),\n",
        "        DataLoader(test_ds, batch_size=batch_size,\n",
        "                   shuffle=False, num_workers=1,\n",
        "                   pin_memory=torch.cuda.is_available()),\n",
        "    )"
      ]
    },
    {
      "cell_type": "code",
      "execution_count": 9,
      "metadata": {
        "id": "UiAjcdqc6ftV"
      },
      "outputs": [],
      "source": [
        "def make_model():\n",
        "    model = models.vgg13_bn(weights=models.VGG13_BN_Weights.IMAGENET1K_V1)\n",
        "    model.classifier[6] = nn.Linear(model.classifier[6].in_features, NUM_CLS)\n",
        "    return model.to(device)"
      ]
    },
    {
      "cell_type": "code",
      "execution_count": null,
      "metadata": {
        "id": "UXua76_FB8ie"
      },
      "outputs": [],
      "source": [
        "def get_loss(mode):\n",
        "    if mode in ('mv','pld'):\n",
        "        return nn.CrossEntropyLoss()\n",
        "    elif mode == 'cel':\n",
        "        return nn.KLDivLoss(reduction=\"batchmean\")\n",
        "    elif mode == 'ml':\n",
        "        return nn.BCEWithLogitsLoss()\n",
        "    else:\n",
        "        raise ValueError(f\"Unknown mode {mode}\")"
      ]
    },
    {
      "cell_type": "code",
      "execution_count": 12,
      "metadata": {
        "id": "s5N6kO5fsdlV"
      },
      "outputs": [],
      "source": [
        "def run_epoch(model, loader, criterion, optimizer, train=True):\n",
        "    if train:\n",
        "        model.train()\n",
        "        desc=\"Training\"\n",
        "    else:\n",
        "        model.eval()\n",
        "        desc =\"Validation\"\n",
        "\n",
        "    loss_total = 0\n",
        "    correct = 0\n",
        "    total = 0\n",
        "\n",
        "    with torch.set_grad_enabled(train):\n",
        "        for data, target in tqdm(loader, desc=desc):\n",
        "              data, target = data.to(device), target.to(device)\n",
        "\n",
        "              if train:\n",
        "                  optimizer.zero_grad()\n",
        "\n",
        "              output = model(data)\n",
        "              loss = criterion(output, target)\n",
        "\n",
        "              if train:\n",
        "                  loss.backward()\n",
        "                  optimizer.step()\n",
        "\n",
        "              loss_total += loss.item()\n",
        "              pred = output.argmax(dim=1, keepdim=True)\n",
        "              correct += pred.eq(target.view_as(pred)).sum().item()\n",
        "              total += target.size(0)\n",
        "\n",
        "    avg_loss = loss_total / len(loader)\n",
        "    accuracy = 100. * correct / total\n",
        "\n",
        "    return avg_loss, accuracy"
      ]
    },
    {
      "cell_type": "code",
      "execution_count": 13,
      "metadata": {
        "id": "Z4jPx9hlLep5"
      },
      "outputs": [],
      "source": [
        "def history_plot(train_losses,val_losses,train_accs,val_accs):\n",
        "      fig, (ax1, ax2) = plt.subplots(1, 2, figsize=(12, 5))\n",
        "      ax1.plot(train_losses, label='Train Loss')\n",
        "      ax1.plot(val_losses, label='Val Loss')\n",
        "      ax1.set_xlabel('Epoch')\n",
        "      ax1.set_ylabel('Loss')\n",
        "      ax1.set_title('Training and Validation Loss')\n",
        "      ax1.legend()\n",
        "      ax1.grid(True)\n",
        "\n",
        "      ax2.plot(train_accs, label='Train Acc')\n",
        "      ax2.plot(val_accs, label='Val Acc')\n",
        "      ax2.set_xlabel('Epoch')\n",
        "      ax2.set_ylabel('Accuracy (%)')\n",
        "      ax2.set_title('Training and Validation Accuracy')\n",
        "      ax2.legend()\n",
        "      ax2.grid(True)\n",
        "\n",
        "      plt.tight_layout()\n",
        "      plt.savefig('training_history.png', dpi=300, bbox_inches='tight')\n",
        "      plt.show()\n"
      ]
    },
    {
      "cell_type": "code",
      "execution_count": 14,
      "metadata": {
        "id": "4nzdCWtA21-G"
      },
      "outputs": [],
      "source": [
        "def train_model(mode):\n",
        "    extract_fer_datasets()\n",
        "\n",
        "    train_loader, val_loader, test_loader = make_loaders(mode)\n",
        "    print(f\"Train samples: {len(train_loader.dataset)}\")\n",
        "    print(f\"Val samples: {len(val_loader.dataset)}\")\n",
        "    print(f\"Test samples: {len(test_loader.dataset)}\")\n",
        "\n",
        "    model = make_model()\n",
        "\n",
        "    criterion = get_loss(mode)\n",
        "    optimizer = torch.optim.Adam(model.parameters(), lr=learning_rate, weight_decay=1e-4)\n",
        "    scheduler = torch.optim.lr_scheduler.StepLR(optimizer, step_size=10, gamma=0.1)\n",
        "\n",
        "    patience = 3\n",
        "    best_val_acc = 0\n",
        "    patience_counter = 0\n",
        "\n",
        "    checkpoint_path = f'/content/drive/MyDrive/ml/projekt/best_model_{mode}.pth'\n",
        "    if os.path.exists(checkpoint_path):\n",
        "        print(f\"Loading checkpoint from {checkpoint_path}\")\n",
        "        checkpoint = torch.load(checkpoint_path)\n",
        "        model.load_state_dict(checkpoint['model_state_dict'])\n",
        "        optimizer.load_state_dict(checkpoint['optimizer_state_dict'])\n",
        "        start_epoch = checkpoint['epoch'] + 1\n",
        "        best_val_acc = checkpoint['best_val_acc']\n",
        "        print(f\"Resuming from epoch {start_epoch}\")\n",
        "\n",
        "    train_losses = []\n",
        "    val_losses = []\n",
        "    train_accs = []\n",
        "    val_accs = []\n",
        "\n",
        "    for epoch in range(num_epochs):\n",
        "          print(f\"\\nEpoch {epoch+1}/{num_epochs}\")\n",
        "          print('-'*50)\n",
        "\n",
        "          train_loss, train_acc = run_epoch(model, train_loader, criterion, optimizer, train=True)\n",
        "          val_loss, val_acc = run_epoch(model, val_loader, criterion, train=False)\n",
        "\n",
        "          scheduler.step()\n",
        "\n",
        "          #historia\n",
        "          train_losses.append(train_loss)\n",
        "          val_losses.append(val_loss)\n",
        "          train_accs.append(train_acc)\n",
        "          val_accs.append(val_acc)\n",
        "\n",
        "          print(f'Train Loss: {train_loss:.4f}, Train Acc: {train_acc:.2f}%')\n",
        "          print(f'Val Loss: {val_loss:.4f}, Val Acc: {val_acc:.2f}%')\n",
        "          print(f'Learning Rate: {scheduler.get_last_lr()[0]:.6f}')\n",
        "\n",
        "          if val_acc > best_val_acc:\n",
        "                best_val_acc = val_acc\n",
        "                patience_counter = 0\n",
        "                torch.save({\n",
        "                    'epoch': epoch,\n",
        "                    'model_state_dict': model.state_dict(),\n",
        "                    'optimizer_state_dict': optimizer.state_dict(),\n",
        "                    'best_val_acc': best_val_acc,\n",
        "                }, checkpoint_path)\n",
        "                print(f'New best model saved with val accuracy: {best_val_acc:.2f}%')\n",
        "\n",
        "          else:\n",
        "                patience_counter += 1\n",
        "                if patience_counter >= patience:\n",
        "                    print(\"Early stopping\")\n",
        "                    break\n",
        "\n",
        "    history_plot(train_losses, val_losses, train_accs, val_accs)"
      ]
    },
    {
      "cell_type": "code",
      "execution_count": null,
      "metadata": {
        "colab": {
          "base_uri": "https://localhost:8080/",
          "height": 1000
        },
        "id": "TilzMfn4die_",
        "outputId": "1614e5e6-2438-49f1-93ab-b302cca207f7"
      },
      "outputs": [
        {
          "metadata": {
            "tags": null
          },
          "name": "stdout",
          "output_type": "stream",
          "text": [
            "Drive already mounted at /content/drive; to attempt to forcibly remount, call drive.mount(\"/content/drive\", force_remount=True).\n",
            "Dataset already extracted\n",
            "Train samples: 28558\n",
            "Val samples: 3579\n",
            "Test samples: 3573\n",
            "\n",
            "Epoch 1/10\n",
            "--------------------------------------------------\n"
          ]
        },
        {
          "metadata": {
            "tags": null
          },
          "name": "stderr",
          "output_type": "stream",
          "text": [
            "Training: 100%|██████████| 447/447 [06:33<00:00,  1.14it/s]\n",
            "Validation: 100%|██████████| 56/56 [00:16<00:00,  3.49it/s]\n"
          ]
        },
        {
          "metadata": {
            "tags": null
          },
          "name": "stdout",
          "output_type": "stream",
          "text": [
            "Train Loss: 0.9983, Train Acc: 65.68%\n",
            "Val Loss: 0.8700, Val Acc: 68.26%\n",
            "Learning Rate: 0.001000\n",
            "New best model saved with val accuracy: 68.26%\n",
            "\n",
            "Epoch 2/10\n",
            "--------------------------------------------------\n"
          ]
        },
        {
          "metadata": {
            "tags": null
          },
          "name": "stderr",
          "output_type": "stream",
          "text": [
            "Training: 100%|██████████| 447/447 [06:32<00:00,  1.14it/s]\n",
            "Validation: 100%|██████████| 56/56 [00:16<00:00,  3.44it/s]\n"
          ]
        },
        {
          "metadata": {
            "tags": null
          },
          "name": "stdout",
          "output_type": "stream",
          "text": [
            "Train Loss: 0.7912, Train Acc: 72.55%\n",
            "Val Loss: 0.9509, Val Acc: 69.21%\n",
            "Learning Rate: 0.001000\n",
            "New best model saved with val accuracy: 69.21%\n",
            "\n",
            "Epoch 3/10\n",
            "--------------------------------------------------\n"
          ]
        },
        {
          "metadata": {
            "tags": null
          },
          "name": "stderr",
          "output_type": "stream",
          "text": [
            "Training: 100%|██████████| 447/447 [06:33<00:00,  1.14it/s]\n",
            "Validation: 100%|██████████| 56/56 [00:16<00:00,  3.40it/s]\n"
          ]
        },
        {
          "metadata": {
            "tags": null
          },
          "name": "stdout",
          "output_type": "stream",
          "text": [
            "Train Loss: 0.7039, Train Acc: 75.64%\n",
            "Val Loss: 0.7168, Val Acc: 75.10%\n",
            "Learning Rate: 0.001000\n",
            "New best model saved with val accuracy: 75.10%\n",
            "\n",
            "Epoch 4/10\n",
            "--------------------------------------------------\n"
          ]
        },
        {
          "metadata": {
            "tags": null
          },
          "name": "stderr",
          "output_type": "stream",
          "text": [
            "Training: 100%|██████████| 447/447 [06:32<00:00,  1.14it/s]\n",
            "Validation: 100%|██████████| 56/56 [00:16<00:00,  3.48it/s]\n"
          ]
        },
        {
          "metadata": {
            "tags": null
          },
          "name": "stdout",
          "output_type": "stream",
          "text": [
            "Train Loss: 0.6506, Train Acc: 77.37%\n",
            "Val Loss: 0.7504, Val Acc: 75.19%\n",
            "Learning Rate: 0.001000\n",
            "New best model saved with val accuracy: 75.19%\n",
            "\n",
            "Epoch 5/10\n",
            "--------------------------------------------------\n"
          ]
        },
        {
          "metadata": {
            "tags": null
          },
          "name": "stderr",
          "output_type": "stream",
          "text": [
            "Training: 100%|██████████| 447/447 [06:32<00:00,  1.14it/s]\n",
            "Validation: 100%|██████████| 56/56 [00:16<00:00,  3.47it/s]\n"
          ]
        },
        {
          "metadata": {
            "tags": null
          },
          "name": "stdout",
          "output_type": "stream",
          "text": [
            "Train Loss: 0.6087, Train Acc: 78.60%\n",
            "Val Loss: 0.6679, Val Acc: 76.81%\n",
            "Learning Rate: 0.001000\n",
            "New best model saved with val accuracy: 76.81%\n",
            "\n",
            "Epoch 6/10\n",
            "--------------------------------------------------\n"
          ]
        },
        {
          "name": "stderr",
          "output_type": "stream",
          "text": [
            "Training: 100%|██████████| 447/447 [06:32<00:00,  1.14it/s]\n",
            "Validation: 100%|██████████| 56/56 [00:16<00:00,  3.47it/s]\n"
          ]
        },
        {
          "name": "stdout",
          "output_type": "stream",
          "text": [
            "Train Loss: 0.5884, Train Acc: 79.08%\n",
            "Val Loss: 0.8758, Val Acc: 73.85%\n",
            "Learning Rate: 0.001000\n",
            "\n",
            "Epoch 7/10\n",
            "--------------------------------------------------\n"
          ]
        },
        {
          "name": "stderr",
          "output_type": "stream",
          "text": [
            "Training: 100%|██████████| 447/447 [06:30<00:00,  1.14it/s]\n",
            "Validation: 100%|██████████| 56/56 [00:16<00:00,  3.45it/s]\n",
            "\n"
          ]
        },
        {
          "name": "stdout",
          "output_type": "stream",
          "text": [
            "Train Loss: 0.5485, Train Acc: 80.68%\n",
            "Val Loss: 0.6241, Val Acc: 77.95%\n",
            "Learning Rate: 0.001000\n",
            "New best model saved with val accuracy: 77.95%\n",
            "\n",
            "Epoch 8/10\n",
            "--------------------------------------------------\n"
          ]
        },
        {
          "name": "stderr",
          "output_type": "stream",
          "text": [
            "Training: 100%|██████████| 447/447 [06:31<00:00,  1.14it/s]\n",
            "Validation: 100%|██████████| 56/56 [00:16<00:00,  3.48it/s]\n",
            "\n"
          ]
        },
        {
          "name": "stdout",
          "output_type": "stream",
          "text": [
            "Train Loss: 0.5256, Train Acc: 81.20%\n",
            "Val Loss: 1.7993, Val Acc: 63.09%\n",
            "Learning Rate: 0.001000\n",
            "\n",
            "Epoch 9/10\n",
            "--------------------------------------------------\n"
          ]
        },
        {
          "name": "stderr",
          "output_type": "stream",
          "text": [
            "Training: 100%|██████████| 447/447 [06:30<00:00,  1.14it/s]\n",
            "Validation: 100%|██████████| 56/56 [00:16<00:00,  3.47it/s]\n",
            "\n"
          ]
        },
        {
          "name": "stdout",
          "output_type": "stream",
          "text": [
            "Train Loss: 0.5108, Train Acc: 81.74%\n",
            "Val Loss: 0.7055, Val Acc: 76.70%\n",
            "Learning Rate: 0.001000\n",
            "\n",
            "Epoch 10/10\n",
            "--------------------------------------------------\n"
          ]
        },
        {
          "name": "stderr",
          "output_type": "stream",
          "text": [
            "Training: 100%|██████████| 447/447 [06:30<00:00,  1.14it/s]\n",
            "Validation: 100%|██████████| 56/56 [00:16<00:00,  3.49it/s]\n",
            "\n"
          ]
        },
        {
          "name": "stdout",
          "output_type": "stream",
          "text": [
            "Train Loss: 0.4838, Train Acc: 82.69%\n",
            "Val Loss: 0.6071, Val Acc: 79.66%\n",
            "Learning Rate: 0.000100\n",
            "New best model saved with val accuracy: 79.66%\n"
          ]
        },
        {
          "data": {
            "image/png": "[encoded data removed]",
            "text/plain": [
              "<Figure size 1200x500 with 2 Axes>"
            ]
          },
          "metadata": {},
          "output_type": "display_data"
        }
      ],
      "source": [
        "train_model('mv')"
      ]
    },
    {
      "cell_type": "code",
      "execution_count": null,
      "metadata": {
        "colab": {
          "base_uri": "https://localhost:8080/"
        },
        "id": "zUf2HxVHHhj9",
        "outputId": "68d16d42-b1c9-4ee1-9bc0-d79571359b1a"
      },
      "outputs": [
        {
          "output_type": "stream",
          "name": "stdout",
          "text": [
            "Drive already mounted at /content/drive; to attempt to forcibly remount, call drive.mount(\"/content/drive\", force_remount=True).\n",
            "Dataset already extracted\n",
            "Train samples: 28558\n",
            "Val samples: 3579\n",
            "Test samples: 3573\n",
            "\n",
            "Epoch 1/10\n",
            "--------------------------------------------------\n"
          ]
        },
        {
          "output_type": "stream",
          "name": "stderr",
          "text": [
            "Training:  53%|█████▎    | 235/447 [03:31<03:08,  1.12it/s]"
          ]
        }
      ],
      "source": [
        "train_model('mv')"
      ]
    },
    {
      "cell_type": "code",
      "execution_count": null,
      "metadata": {
        "id": "PIy0GreKHhj-"
      },
      "outputs": [],
      "source": []
    }
  ],
  "metadata": {
    "accelerator": "GPU",
    "colab": {
      "gpuType": "T4",
      "provenance": []
    },
    "kernelspec": {
      "display_name": "Python 3",
      "name": "python3"
    },
    "language_info": {
      "codemirror_mode": {
        "name": "ipython",
        "version": 3
      },
      "file_extension": ".py",
      "mimetype": "text/x-python",
      "name": "python",
      "nbconvert_exporter": "python",
      "pygments_lexer": "ipython3",
      "version": "3.12.3"
    }
  },
  "nbformat": 4,
  "nbformat_minor": 0
}