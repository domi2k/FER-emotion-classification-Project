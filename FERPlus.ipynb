{
  "nbformat": 4,
  "nbformat_minor": 0,
  "metadata": {
    "colab": {
      "provenance": [],
      "gpuType": "T4"
    },
    "kernelspec": {
      "name": "python3",
      "display_name": "Python 3"
    },
    "language_info": {
      "name": "python"
    },
    "accelerator": "GPU"
  },
  "cells": [
    {
      "cell_type": "code",
      "execution_count": 1,
      "metadata": {
        "id": "3441Rz01kmqk"
      },
      "outputs": [],
      "source": [
        "import os\n",
        "import numpy as np\n",
        "import pandas as pd\n",
        "from PIL import Image\n",
        "\n",
        "import torch\n",
        "import torch.nn as nn\n",
        "from torch.utils.data import Dataset, DataLoader\n",
        "from torchvision import transforms, models"
      ]
    },
    {
      "cell_type": "code",
      "source": [
        "seed = 42\n",
        "torch.manual_seed(seed)\n",
        "np.random.seed(seed)\n",
        "\n",
        "batch_size = 64"
      ],
      "metadata": {
        "id": "l-bqLN3FlfRj"
      },
      "execution_count": 2,
      "outputs": []
    },
    {
      "cell_type": "code",
      "source": [
        "device = torch.device('cuda' if torch.cuda.is_available() else 'cpu')\n",
        "device"
      ],
      "metadata": {
        "colab": {
          "base_uri": "https://localhost:8080/"
        },
        "id": "6RQV94rDlkTS",
        "outputId": "4c85b56e-3c07-4a2e-814c-3a41e4902e98"
      },
      "execution_count": 3,
      "outputs": [
        {
          "output_type": "execute_result",
          "data": {
            "text/plain": [
              "device(type='cuda')"
            ]
          },
          "metadata": {},
          "execution_count": 3
        }
      ]
    },
    {
      "cell_type": "code",
      "source": [
        "CLS = ['neutral', 'happiness', 'surprise', 'sadness', 'anger', 'disgust', 'fear', 'contempt']\n",
        "NUM_CLS = len(CLS)\n",
        "CLS_DICT = {cl:i for i, cl in enumerate(CLS)}\n",
        "CLS_DICT"
      ],
      "metadata": {
        "colab": {
          "base_uri": "https://localhost:8080/"
        },
        "id": "dpTBhHFulsfL",
        "outputId": "25f0d918-094a-4fcd-b7c6-7099efe21468"
      },
      "execution_count": 4,
      "outputs": [
        {
          "output_type": "execute_result",
          "data": {
            "text/plain": [
              "{'neutral': 0,\n",
              " 'happiness': 1,\n",
              " 'surprise': 2,\n",
              " 'sadness': 3,\n",
              " 'anger': 4,\n",
              " 'disgust': 5,\n",
              " 'fear': 6,\n",
              " 'contempt': 7}"
            ]
          },
          "metadata": {},
          "execution_count": 4
        }
      ]
    },
    {
      "cell_type": "code",
      "source": [
        "class FerPlusDataset(Dataset):\n",
        "    def __init__(self, split, transform, mode='mv'):\n",
        "        self.root = f'FER2013{split}'\n",
        "        self.transform = transform\n",
        "        self.mode = mode\n",
        "\n",
        "        column_names = [\n",
        "            'image_name', 'image_tensor',\n",
        "            'neutral', 'happiness', 'surprise', 'sadness', 'anger', 'disgust', 'fear', 'contempt',\n",
        "            'unknown', 'NF'\n",
        "        ]\n",
        "\n",
        "        df = pd.read_csv(os.path.join(self.root, 'label.csv'), names=column_names, header=None)\n",
        "        df = df[['image_name', 'neutral', 'happiness',\n",
        "                 'surprise', 'sadness', 'anger',\n",
        "                 'disgust', 'fear', 'contempt']]\n",
        "\n",
        "        self.labels = df[CLS].values\n",
        "        self.images = df['image_name'].values\n",
        "\n",
        "    def __len__(self):\n",
        "        return len(self.images)\n",
        "\n",
        "    def __getitem__(self, idx):\n",
        "        img_path = os.path.join(self.root, self.images[idx])\n",
        "        img = Image.open(img_path)\n",
        "        x = self.transform(img)\n",
        "\n",
        "        p = self.labels[idx]\n",
        "\n",
        "        if self.mode == 'mv':\n",
        "            y = torch.tensor(np.argmax(p))\n",
        "\n",
        "        elif self.mode == 'pld':\n",
        "            y = torch.tensor(np.random.choice(NUM_CLS, p=p))\n",
        "\n",
        "        elif self.mode == \"cel\":\n",
        "            y = torch.tensor(p)\n",
        "\n",
        "        elif self.mode == \"ml\":\n",
        "            mask = (p > self.theta)\n",
        "            y = torch.tensor(mask)\n",
        "\n",
        "        else:\n",
        "            raise ValueError(f\"Unknown mode {self.mode}\")\n",
        "\n",
        "        return x, y"
      ],
      "metadata": {
        "id": "3zA4bS6cl2NS"
      },
      "execution_count": 7,
      "outputs": []
    },
    {
      "cell_type": "code",
      "source": [
        "train_tf = transforms.Compose([\n",
        "    transforms.Grayscale(num_output_channels=3),\n",
        "    transforms.Resize(224),\n",
        "    transforms.RandomHorizontalFlip(),\n",
        "    transforms.ToTensor(),\n",
        "    transforms.Normalize([0.5]*3, [0.5]*3),\n",
        "])\n",
        "\n",
        "val_tf = transforms.Compose([\n",
        "    transforms.Grayscale(num_output_channels=3),\n",
        "    transforms.Resize(224),\n",
        "    transforms.ToTensor(),\n",
        "    transforms.Normalize([0.5]*3, [0.5]*3),\n",
        "])"
      ],
      "metadata": {
        "id": "TmOdyL396Gix"
      },
      "execution_count": 9,
      "outputs": []
    },
    {
      "cell_type": "code",
      "source": [
        "def make_loaders(mode):\n",
        "    train_ds = FerPlusDataset(split='Train', transform=train_tf, mode=mode)\n",
        "    val_ds = FerPlusDataset(split='Valid', transform=train_tf, mode=mode)\n",
        "    test_ds = FerPlusDataset(split='Test', transform=train_tf, mode=mode)\n",
        "\n",
        "    return (\n",
        "        DataLoader(train_ds, batch_size=batch_size,\n",
        "                   shuffle=True, num_workers=1,\n",
        "                   pin_memory=torch.cuda.is_available()),\n",
        "        DataLoader(val_ds, batch_size=batch_size,\n",
        "                   shuffle=False, num_workers=1,\n",
        "                   pin_memory=torch.cuda.is_available()),\n",
        "        DataLoader(test_ds, batch_size=batch_size,\n",
        "                   shuffle=False, num_workers=1,\n",
        "                   pin_memory=torch.cuda.is_available()),\n",
        "    )"
      ],
      "metadata": {
        "id": "cc-BcLGq6ccQ"
      },
      "execution_count": 10,
      "outputs": []
    },
    {
      "cell_type": "code",
      "source": [
        "def make_model():\n",
        "    model = models.vgg13_bn(weights=models.VGG13_BN_Weights.IMAGENET1K_V1)\n",
        "\n",
        "    return model.to(device)"
      ],
      "metadata": {
        "id": "UiAjcdqc6ftV"
      },
      "execution_count": 11,
      "outputs": []
    }
  ]
}